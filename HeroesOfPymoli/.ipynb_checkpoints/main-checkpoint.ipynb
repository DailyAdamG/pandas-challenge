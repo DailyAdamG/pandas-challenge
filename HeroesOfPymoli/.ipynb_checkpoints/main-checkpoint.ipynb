{
 "cells": [
  {
   "cell_type": "code",
   "execution_count": 1,
   "metadata": {},
   "outputs": [],
   "source": [
    "import pandas as pd"
   ]
  },
  {
   "cell_type": "code",
   "execution_count": 2,
   "metadata": {},
   "outputs": [],
   "source": [
    "file_to_load = \"Resources/purchase_data.csv\""
   ]
  },
  {
   "cell_type": "code",
   "execution_count": 3,
   "metadata": {},
   "outputs": [],
   "source": [
    "purchase_data = pd.read_csv(file_to_load)"
   ]
  },
  {
   "cell_type": "code",
   "execution_count": 4,
   "metadata": {},
   "outputs": [
    {
     "name": "stdout",
     "output_type": "stream",
     "text": [
      " Total Players: 576\n"
     ]
    }
   ],
   "source": [
    "total_players = purchase_data[\"SN\"].nunique()\n",
    "print(f\" Total Players: {total_players}\")"
   ]
  },
  {
   "cell_type": "code",
   "execution_count": 5,
   "metadata": {},
   "outputs": [
    {
     "name": "stdout",
     "output_type": "stream",
     "text": [
      "   Number of Unique Items Average Price  Number of Purchases Total Revenue\n",
      "0                     179         $3.05                  780     $2,379.77\n"
     ]
    }
   ],
   "source": [
    "unique_items = purchase_data[\"Item ID\"].nunique()\n",
    "avg_price = purchase_data[\"Price\"].mean()\n",
    "total_purchases = purchase_data[\"Purchase ID\"].count()\n",
    "total_revenue = purchase_data[\"Price\"].sum()\n",
    "purchasing_analysis_df = pd.DataFrame({\"Number of Unique Items\" : [unique_items],\n",
    "                           \"Average Price\" : [avg_price], \n",
    "                           \"Number of Purchases\" : [total_purchases], \n",
    "                           \"Total Revenue\" : [total_revenue]})\n",
    "print(purchasing_analysis_df.to_string(formatters={\"Average Price\" : \"${:,.2f}\".format,\n",
    "                                                  \"Total Revenue\" : \"${:,.2f}\".format}))"
   ]
  },
  {
   "cell_type": "code",
   "execution_count": 6,
   "metadata": {
    "scrolled": true
   },
   "outputs": [
    {
     "name": "stdout",
     "output_type": "stream",
     "text": [
      "                       Total Count Percentage of Players\n",
      "Gender                                                  \n",
      "Female                          81                14.06%\n",
      "Male                           484                84.03%\n",
      "Other / Non-Disclosed           11                 1.91%\n"
     ]
    }
   ],
   "source": [
    "gender_group = purchase_data.groupby(\"Gender\")\n",
    "count_by_gender_group = gender_group[\"SN\"].nunique()\n",
    "gender_pct_breakdown = count_by_gender_group / total_players * 100\n",
    "gender_demographics = pd.DataFrame({\n",
    "    \"Total Count\" : count_by_gender_group,\n",
    "    \"Percentage of Players\" : gender_pct_breakdown\n",
    "})\n",
    "print(gender_demographics.to_string(formatters={\"Percentage of Players\" : \"{:,.2f}%\".format}))"
   ]
  },
  {
   "cell_type": "code",
   "execution_count": 7,
   "metadata": {},
   "outputs": [
    {
     "name": "stdout",
     "output_type": "stream",
     "text": [
      "                       Purchase Count Average Purchase Price Total Purchase Value Average Total per Person\n",
      "Gender                                                                                                    \n",
      "Female                            113                  $3.20              $361.94                    $4.47\n",
      "Male                              652                  $3.02            $1,967.64                    $4.07\n",
      "Other / Non-Disclosed              15                  $3.35               $50.19                    $4.56\n"
     ]
    }
   ],
   "source": [
    "gender_group_purchase_count = gender_group[\"Purchase ID\"].count()\n",
    "gender_group_avg_purchase_price = gender_group[\"Price\"].mean()\n",
    "gender_group_total_purchase_value = gender_group[\"Price\"].sum()\n",
    "gender_group_avg_total_purchase_person = gender_group_total_purchase_value / count_by_gender_group\n",
    "\n",
    "purchasing_analysis_gender_df = pd.DataFrame({\"Purchase Count\" : gender_group_purchase_count,\n",
    "                                             \"Average Purchase Price\" : gender_group_avg_purchase_price,\n",
    "                                             \"Total Purchase Value\" : gender_group_total_purchase_value,\n",
    "                                             \"Average Total per Person\" : gender_group_avg_total_purchase_person})\n",
    "print(purchasing_analysis_gender_df.to_string(formatters={\"Average Purchase Price\" : \"${:,.2f}\".format,\n",
    "                                                         \"Total Purchase Value\" : \"${:,.2f}\".format,\n",
    "                                                         \"Average Total per Person\" : \"${:,.2f}\".format}))"
   ]
  },
  {
   "cell_type": "code",
   "execution_count": 8,
   "metadata": {
    "scrolled": true
   },
   "outputs": [
    {
     "name": "stdout",
     "output_type": "stream",
     "text": [
      "           Total Count Percentage of Players\n",
      "Age Group                                   \n",
      "<10                 17                 2.95%\n",
      "10-14               22                 3.82%\n",
      "15-19              107                18.58%\n",
      "20-24              258                44.79%\n",
      "25-29               77                13.37%\n",
      "30-34               52                 9.03%\n",
      "35-39               31                 5.38%\n",
      "40+                 12                 2.08%\n"
     ]
    }
   ],
   "source": [
    "age_bins = [0, 9, 14, 19, 24, 29, 34, 39, 1000]\n",
    "age_groups = [\"<10\", \"10-14\", \"15-19\", \"20-24\", \"25-29\", \"30-34\", \"35-39\", \"40+\"]\n",
    "\n",
    "purchase_data[\"Age Group\"] = pd.cut(purchase_data[\"Age\"], age_bins, labels = age_groups, include_lowest=True)\n",
    "\n",
    "age_group_df = purchase_data.groupby(\"Age Group\")\n",
    "count_by_age_group = age_group_df[\"SN\"].nunique()\n",
    "pct_by_age_group = count_by_age_group / total_players * 100\n",
    "\n",
    "age_demographics_df = pd.DataFrame({\"Total Count\" : count_by_age_group,\n",
    "                                   \"Percentage of Players\" : pct_by_age_group})\n",
    "print(age_demographics_df.to_string(formatters={\"Percentage of Players\" : \"{:,.2f}%\".format}))"
   ]
  },
  {
   "cell_type": "code",
   "execution_count": 9,
   "metadata": {},
   "outputs": [
    {
     "name": "stdout",
     "output_type": "stream",
     "text": [
      "           Purchase Count Average Purchase Price Total Purchase Value Average Total Purchase per Person\n",
      "Age Group                                                                                              \n",
      "<10                    23                  $3.35               $77.13                             $4.54\n",
      "10-14                  28                  $2.96               $82.78                             $3.76\n",
      "15-19                 136                  $3.04              $412.89                             $3.86\n",
      "20-24                 365                  $3.05            $1,114.06                             $4.32\n",
      "25-29                 101                  $2.90              $293.00                             $3.81\n",
      "30-34                  73                  $2.93              $214.00                             $4.12\n",
      "35-39                  41                  $3.60              $147.67                             $4.76\n",
      "40+                    13                  $2.94               $38.24                             $3.19\n"
     ]
    }
   ],
   "source": [
    "age_group_purchase_count = age_group_df[\"Purchase ID\"].count()\n",
    "age_group_avg_purchase_price = age_group_df[\"Price\"].mean()\n",
    "age_group_total_purchase_value = age_group_df[\"Price\"].sum()\n",
    "gender_group_avg_total_purchase_person =  age_group_total_purchase_value / count_by_age_group\n",
    "\n",
    "purchasing_analysis_age_df = pd.DataFrame({\"Purchase Count\" : age_group_purchase_count,\n",
    "                                          \"Average Purchase Price\" : age_group_avg_purchase_price,\n",
    "                                          \"Total Purchase Value\" : age_group_total_purchase_value,\n",
    "                                          \"Average Total Purchase per Person\" : gender_group_avg_total_purchase_person})\n",
    "print(purchasing_analysis_age_df.to_string(formatters={\"Average Purchase Price\" : \"${:,.2f}\".format,\n",
    "                                    \"Total Purchase Value\" : \"${:,.2f}\".format,\n",
    "                                    \"Average Total Purchase per Person\" : \"${:,.2f}\".format}))"
   ]
  },
  {
   "cell_type": "code",
   "execution_count": 10,
   "metadata": {},
   "outputs": [
    {
     "name": "stdout",
     "output_type": "stream",
     "text": [
      "             Purchase Count Average Purchase Price Total Purchase Value\n",
      "SN                                                                     \n",
      "Lisosia93                 5                  $3.79               $18.96\n",
      "Idastidru52               4                  $3.86               $15.45\n",
      "Chamjask73                3                  $4.61               $13.83\n",
      "Iral74                    4                  $3.40               $13.62\n",
      "Iskadarya95               3                  $4.37               $13.10\n"
     ]
    }
   ],
   "source": [
    "top_spenders_group = purchase_data.groupby(\"SN\")\n",
    "top_spenders_purchase_count = top_spenders_group[\"Purchase ID\"].count()\n",
    "top_spenders_avg_purchase_price = top_spenders_group[\"Price\"].mean()\n",
    "top_spenders_avg_total_purchase_value = top_spenders_group[\"Price\"].sum()\n",
    "\n",
    "top_spenders_df = pd.DataFrame({\"Purchase Count\" : top_spenders_purchase_count,\n",
    "                               \"Average Purchase Price\" : top_spenders_avg_purchase_price,\n",
    "                               \"Total Purchase Value\" : top_spenders_avg_total_purchase_value})\n",
    "sorted_top_spenders = top_spenders_df.sort_values(by=[\"Total Purchase Value\"], ascending = False).head()\n",
    "\n",
    "print(sorted_top_spenders.to_string(formatters={\"Average Purchase Price\" : \"${:,.2f}\".format,\n",
    "                                               \"Total Purchase Value\" : \"${:,.2f}\".format}))"
   ]
  },
  {
   "cell_type": "code",
   "execution_count": 11,
   "metadata": {},
   "outputs": [
    {
     "name": "stdout",
     "output_type": "stream",
     "text": [
      "                                                      Purchase Count Item Price Total Purchase Value\n",
      "Item ID Item Name                                                                                   \n",
      "92      Final Critic                                              13      $4.61               $59.99\n",
      "178     Oathbreaker, Last Hope of the Breaking Storm              12      $4.23               $50.76\n",
      "145     Fiery Glass Crusader                                       9      $4.58               $41.22\n",
      "132     Persuasion                                                 9      $3.22               $28.99\n",
      "108     Extraction, Quickblade Of Trembling Hands                  9      $3.53               $31.77\n"
     ]
    }
   ],
   "source": [
    "popular_items_group = purchase_data.groupby([\"Item ID\", \"Item Name\"])\n",
    "popular_items_purchase_count = popular_items_group[\"Purchase ID\"].count()\n",
    "popular_items_item_price = popular_items_group[\"Price\"].mean()\n",
    "popular_items_total_purchase_value = popular_items_group[\"Price\"].sum()\n",
    "\n",
    "popular_items_df = pd.DataFrame({\"Purchase Count\" : popular_items_purchase_count,\n",
    "                                \"Item Price\" : popular_items_item_price,\n",
    "                               \"Total Purchase Value\" : popular_items_total_purchase_value})\n",
    "sorted_popular_items_df = popular_items_df.sort_values(by = \"Purchase Count\", ascending = False).head()\n",
    "\n",
    "print(sorted_popular_items_df.to_string(formatters={\"Item Price\" : \"${:,.2f}\".format,\n",
    "                                                \"Total Purchase Value\" : \"${:,.2f}\".format}))"
   ]
  },
  {
   "cell_type": "code",
   "execution_count": 12,
   "metadata": {},
   "outputs": [
    {
     "name": "stdout",
     "output_type": "stream",
     "text": [
      "                                                      Purchase Count Item Price Total Purchase Value\n",
      "Item ID Item Name                                                                                   \n",
      "92      Final Critic                                              13      $4.61               $59.99\n",
      "178     Oathbreaker, Last Hope of the Breaking Storm              12      $4.23               $50.76\n",
      "82      Nirvana                                                    9      $4.90               $44.10\n",
      "145     Fiery Glass Crusader                                       9      $4.58               $41.22\n",
      "103     Singed Scalpel                                             8      $4.35               $34.80\n"
     ]
    }
   ],
   "source": [
    "value_sorted_popular_items_df = popular_items_df.sort_values(by = \"Total Purchase Value\", ascending = False).head()\n",
    "\n",
    "print(value_sorted_popular_items_df.to_string(formatters={\"Item Price\" : \"${:,.2f}\".format,\n",
    "                                                \"Total Purchase Value\" : \"${:,.2f}\".format}))"
   ]
  },
  {
   "cell_type": "code",
   "execution_count": null,
   "metadata": {},
   "outputs": [],
   "source": []
  }
 ],
 "metadata": {
  "kernelspec": {
   "display_name": "Python 3",
   "language": "python",
   "name": "python3"
  },
  "language_info": {
   "codemirror_mode": {
    "name": "ipython",
    "version": 3
   },
   "file_extension": ".py",
   "mimetype": "text/x-python",
   "name": "python",
   "nbconvert_exporter": "python",
   "pygments_lexer": "ipython3",
   "version": "3.7.4"
  }
 },
 "nbformat": 4,
 "nbformat_minor": 2
}
